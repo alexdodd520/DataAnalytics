{
 "cells": [
  {
   "cell_type": "markdown",
   "metadata": {},
   "source": [
    "# Confidence Intervals and Hypothesis Testing\n",
    "My workthrough of a code from Dr. Pyrcz, the goal is to take two data sets from two different wells, look at the porosity values from two wells and see how statistically related they are\n",
    "\n",
    "First import the different libraries and standard packages"
   ]
  },
  {
   "cell_type": "code",
   "execution_count": 1,
   "metadata": {},
   "outputs": [],
   "source": [
    "import geostatspy.GSLIB as GSLIB\n",
    "import geostatspy.geostats as geostats        #libraries to help with visualizations and geostatistcs from DR. Prycz\n",
    "\n",
    "import numpy as np \n",
    "import os\n",
    "import scipy.stats as stats\n",
    "import pandas as pd\n",
    "import matplotlib.pyplot as plt                      #our standard packages from numerical methods and visualizations and formatting"
   ]
  },
  {
   "cell_type": "markdown",
   "metadata": {},
   "source": [
    "Set the directory, I am using a file on my desktop with all my python practice inlcuded"
   ]
  },
  {
   "cell_type": "code",
   "execution_count": 2,
   "metadata": {},
   "outputs": [],
   "source": [
    "os.chdir(\"/Users/AlexDodd/Desktop/Python Practice/CI and Hypothesis Testing\")"
   ]
  },
  {
   "cell_type": "markdown",
   "metadata": {},
   "source": [
    "Next we need to load in a data frame or data set to work with, "
   ]
  },
  {
   "cell_type": "code",
   "execution_count": 3,
   "metadata": {},
   "outputs": [
    {
     "data": {
      "text/html": [
       "<div>\n",
       "<style scoped>\n",
       "    .dataframe tbody tr th:only-of-type {\n",
       "        vertical-align: middle;\n",
       "    }\n",
       "\n",
       "    .dataframe tbody tr th {\n",
       "        vertical-align: top;\n",
       "    }\n",
       "\n",
       "    .dataframe thead th {\n",
       "        text-align: right;\n",
       "    }\n",
       "</style>\n",
       "<table border=\"1\" class=\"dataframe\">\n",
       "  <thead>\n",
       "    <tr style=\"text-align: right;\">\n",
       "      <th></th>\n",
       "      <th>X1</th>\n",
       "      <th>X2</th>\n",
       "    </tr>\n",
       "  </thead>\n",
       "  <tbody>\n",
       "    <tr>\n",
       "      <td>0</td>\n",
       "      <td>0.21</td>\n",
       "      <td>0.20</td>\n",
       "    </tr>\n",
       "    <tr>\n",
       "      <td>1</td>\n",
       "      <td>0.17</td>\n",
       "      <td>0.26</td>\n",
       "    </tr>\n",
       "    <tr>\n",
       "      <td>2</td>\n",
       "      <td>0.15</td>\n",
       "      <td>0.20</td>\n",
       "    </tr>\n",
       "    <tr>\n",
       "      <td>3</td>\n",
       "      <td>0.20</td>\n",
       "      <td>0.19</td>\n",
       "    </tr>\n",
       "    <tr>\n",
       "      <td>4</td>\n",
       "      <td>0.19</td>\n",
       "      <td>0.13</td>\n",
       "    </tr>\n",
       "    <tr>\n",
       "      <td>5</td>\n",
       "      <td>0.18</td>\n",
       "      <td>0.22</td>\n",
       "    </tr>\n",
       "    <tr>\n",
       "      <td>6</td>\n",
       "      <td>0.16</td>\n",
       "      <td>0.30</td>\n",
       "    </tr>\n",
       "    <tr>\n",
       "      <td>7</td>\n",
       "      <td>0.11</td>\n",
       "      <td>0.16</td>\n",
       "    </tr>\n",
       "    <tr>\n",
       "      <td>8</td>\n",
       "      <td>0.13</td>\n",
       "      <td>0.23</td>\n",
       "    </tr>\n",
       "    <tr>\n",
       "      <td>9</td>\n",
       "      <td>0.15</td>\n",
       "      <td>0.17</td>\n",
       "    </tr>\n",
       "    <tr>\n",
       "      <td>10</td>\n",
       "      <td>0.17</td>\n",
       "      <td>0.20</td>\n",
       "    </tr>\n",
       "    <tr>\n",
       "      <td>11</td>\n",
       "      <td>0.17</td>\n",
       "      <td>0.21</td>\n",
       "    </tr>\n",
       "    <tr>\n",
       "      <td>12</td>\n",
       "      <td>0.19</td>\n",
       "      <td>0.15</td>\n",
       "    </tr>\n",
       "  </tbody>\n",
       "</table>\n",
       "</div>"
      ],
      "text/plain": [
       "      X1    X2\n",
       "0   0.21  0.20\n",
       "1   0.17  0.26\n",
       "2   0.15  0.20\n",
       "3   0.20  0.19\n",
       "4   0.19  0.13\n",
       "5   0.18  0.22\n",
       "6   0.16  0.30\n",
       "7   0.11  0.16\n",
       "8   0.13  0.23\n",
       "9   0.15  0.17\n",
       "10  0.17  0.20\n",
       "11  0.17  0.21\n",
       "12  0.19  0.15"
      ]
     },
     "execution_count": 3,
     "metadata": {},
     "output_type": "execute_result"
    }
   ],
   "source": [
    "df = pd.read_excel('PorositySample2Units.xlsx')\n",
    "df.head(13)"
   ]
  },
  {
   "cell_type": "markdown",
   "metadata": {},
   "source": [
    "Looking at some of the summary statistcs"
   ]
  },
  {
   "cell_type": "code",
   "execution_count": 4,
   "metadata": {},
   "outputs": [
    {
     "data": {
      "text/html": [
       "<div>\n",
       "<style scoped>\n",
       "    .dataframe tbody tr th:only-of-type {\n",
       "        vertical-align: middle;\n",
       "    }\n",
       "\n",
       "    .dataframe tbody tr th {\n",
       "        vertical-align: top;\n",
       "    }\n",
       "\n",
       "    .dataframe thead th {\n",
       "        text-align: right;\n",
       "    }\n",
       "</style>\n",
       "<table border=\"1\" class=\"dataframe\">\n",
       "  <thead>\n",
       "    <tr style=\"text-align: right;\">\n",
       "      <th></th>\n",
       "      <th>count</th>\n",
       "      <th>mean</th>\n",
       "      <th>std</th>\n",
       "      <th>min</th>\n",
       "      <th>25%</th>\n",
       "      <th>50%</th>\n",
       "      <th>75%</th>\n",
       "      <th>max</th>\n",
       "    </tr>\n",
       "  </thead>\n",
       "  <tbody>\n",
       "    <tr>\n",
       "      <td>X1</td>\n",
       "      <td>20.0</td>\n",
       "      <td>0.1645</td>\n",
       "      <td>0.027810</td>\n",
       "      <td>0.11</td>\n",
       "      <td>0.1500</td>\n",
       "      <td>0.17</td>\n",
       "      <td>0.19</td>\n",
       "      <td>0.21</td>\n",
       "    </tr>\n",
       "    <tr>\n",
       "      <td>X2</td>\n",
       "      <td>20.0</td>\n",
       "      <td>0.2000</td>\n",
       "      <td>0.045422</td>\n",
       "      <td>0.11</td>\n",
       "      <td>0.1675</td>\n",
       "      <td>0.20</td>\n",
       "      <td>0.23</td>\n",
       "      <td>0.30</td>\n",
       "    </tr>\n",
       "  </tbody>\n",
       "</table>\n",
       "</div>"
      ],
      "text/plain": [
       "    count    mean       std   min     25%   50%   75%   max\n",
       "X1   20.0  0.1645  0.027810  0.11  0.1500  0.17  0.19  0.21\n",
       "X2   20.0  0.2000  0.045422  0.11  0.1675  0.20  0.23  0.30"
      ]
     },
     "execution_count": 4,
     "metadata": {},
     "output_type": "execute_result"
    }
   ],
   "source": [
    "df.describe().transpose()"
   ]
  },
  {
   "cell_type": "markdown",
   "metadata": {},
   "source": [
    "Next lets make the x1 and x2 columns into usable variables"
   ]
  },
  {
   "cell_type": "code",
   "execution_count": 5,
   "metadata": {},
   "outputs": [],
   "source": [
    "Por1 = df['X1'].values           #puts the porosity into usuable ndarrays\n",
    "Por2 = df['X2'].values"
   ]
  },
  {
   "cell_type": "code",
   "execution_count": 6,
   "metadata": {},
   "outputs": [
    {
     "name": "stdout",
     "output_type": "stream",
     "text": [
      "[0.21 0.17 0.15 0.2  0.19 0.18 0.16 0.11 0.13 0.15 0.17 0.17 0.19 0.15\n",
      " 0.17 0.11 0.14 0.19 0.19 0.16]\n"
     ]
    }
   ],
   "source": [
    "print(Por1)"
   ]
  },
  {
   "cell_type": "markdown",
   "metadata": {},
   "source": [
    "Looking at the distribution of the data sets"
   ]
  },
  {
   "cell_type": "code",
   "execution_count": 7,
   "metadata": {},
   "outputs": [
    {
     "data": {
      "text/plain": [
       "<function matplotlib.pyplot.hist(x, bins=None, range=None, density=None, weights=None, cumulative=False, bottom=None, histtype='bar', align='mid', orientation='vertical', rwidth=None, log=False, color=None, label=None, stacked=False, normed=None, *, data=None, **kwargs)>"
      ]
     },
     "execution_count": 7,
     "metadata": {},
     "output_type": "execute_result"
    }
   ],
   "source": [
    "plt.hist"
   ]
  },
  {
   "cell_type": "code",
   "execution_count": 8,
   "metadata": {
    "scrolled": false
   },
   "outputs": [
    {
     "data": {
      "image/png": "[encoded data removed]",
      "text/plain": [
       "<Figure size 432x288 with 2 Axes>"
      ]
     },
     "metadata": {
      "needs_background": "light"
     },
     "output_type": "display_data"
    }
   ],
   "source": [
    "plt.subplot(121)\n",
    "plt.hist(Por1,facecolor='red',bins = np.linspace(0,0.4,20),alpha=0.2,density=False,edgecolor='black',label = 'Well 1')\n",
    "plt.hist(Por2,facecolor='blue',bins=np.linspace(0,0.4,20),alpha=0.2,density=False,edgecolor='black',label='Well 2')\n",
    "plt.xlim([0,0.4]);\n",
    "plt.ylim([0,8]);\n",
    "plt.xlabel('Porosity (fraction)');plt.ylabel('Frequency');plt.title('Porosity of Well 1 and 2')\n",
    "plt.legend(loc='upper left')\n",
    "plt.grid(True)\n",
    "\n",
    "plt.subplot(122)\n",
    "plt.hist(Por1,facecolor='red',bins=np.linspace(0,0.4,50),alpha=0.2,histtype='stepfilled',density=True,cumulative=True,edgecolor='black',label='Well 1')\n",
    "plt.hist(Por2,facecolor='blue',bins=np.linspace(0,0.4,50),alpha=0.2,histtype='stepfilled',density=True,cumulative=True,edgecolor='black',label='Well 2')\n",
    "plt.xlim([0,0.4])\n",
    "plt.ylim([0,1.0]);\n",
    "plt.xlabel('Porosity (fraction)');plt.ylabel('Cumulative Frequency');plt.title('Porosity of Well 1 and 2')\n",
    "plt.legend(loc='upper left')\n",
    "\n",
    "plt.subplots_adjust(left=0.0,bottom=0.0,right=2.0,top=1.0,wspace=.2,hspace=0.3)"
   ]
  },
  {
   "cell_type": "markdown",
   "metadata": {},
   "source": [
    "What to look for, number of samples for a reliable source should be greater than 20, and the cdf and historgram should allign well visually. This sample set does not look correlated, but we will find out the confidence interval and test our hypothesis on the correlation of these wells."
   ]
  },
  {
   "cell_type": "markdown",
   "metadata": {},
   "source": [
    "# Confidence Interval\n",
    "Next we will use a 95% confidence interval of the sample mean to decide if these wells are within the range of being correlated. Using a student t distrubtion function from Geostats.py, we will look at the sample mean distribution."
   ]
  },
  {
   "cell_type": "code",
   "execution_count": 9,
   "metadata": {},
   "outputs": [
    {
     "data": {
      "text/plain": [
       "<bound method rv_generic.interval of <scipy.stats._continuous_distns.t_gen object at 0x1a1ce152d0>>"
      ]
     },
     "execution_count": 9,
     "metadata": {},
     "output_type": "execute_result"
    }
   ],
   "source": [
    "stats.t.interval"
   ]
  },
  {
   "cell_type": "code",
   "execution_count": 10,
   "metadata": {},
   "outputs": [
    {
     "name": "stdout",
     "output_type": "stream",
     "text": [
      "The confidence interval for the well 1 porosity mean is 0.164 +/- 0.013 and the range is 0.151,0.178\n",
      "The confidence interval for the well 2 porosity mean is 0.2 +/- 0.021 and the range is 0.179,0.221\n"
     ]
    }
   ],
   "source": [
    "ci_95_Por1 = stats.t.interval(0.95,len(df)-1,loc=np.mean(Por1),scale=stats.sem(Por1))\n",
    "ci_95_Por2 = stats.t.interval(0.95,len(df)-1,loc=np.mean(Por2),scale=stats.sem(Por2))\n",
    "\n",
    "print('The confidence interval for the well 1 porosity mean is '+ str(round(np.mean(Por1),3))+' +/- '\n",
    "+str(round(ci_95_Por1[1]-np.mean(Por1),3))+' and the range is '+str(round(ci_95_Por1[0],3))+',' +\n",
    "str(round(ci_95_Por1[1],3)))\n",
    "\n",
    "print('The confidence interval for the well 2 porosity mean is '+ str(round(np.mean(Por2),3))+' +/- '\n",
    "+str(round(ci_95_Por2[1]-np.mean(Por2),3))+' and the range is '+str(round(ci_95_Por2[0],3))+',' +\n",
    "str(round(ci_95_Por2[1],3)))"
   ]
  },
  {
   "cell_type": "markdown",
   "metadata": {},
   "source": [
    "Now we need to take these confidence interval s and build and uncertainty model to compare our two wells. We will use the GSLIB.affine function to find the P5 and P95 values for our wells."
   ]
  },
  {
   "cell_type": "code",
   "execution_count": 11,
   "metadata": {},
   "outputs": [
    {
     "data": {
      "text/plain": [
       "<function geostatspy.GSLIB.affine(array, tmean, tstdev)>"
      ]
     },
     "execution_count": 11,
     "metadata": {},
     "output_type": "execute_result"
    }
   ],
   "source": [
    "GSLIB.affine"
   ]
  },
  {
   "cell_type": "code",
   "execution_count": 12,
   "metadata": {},
   "outputs": [
    {
     "data": {
      "image/png": "[encoded data removed]",
      "text/plain": [
       "<Figure size 432x288 with 2 Axes>"
      ]
     },
     "metadata": {
      "needs_background": "light"
     },
     "output_type": "display_data"
    }
   ],
   "source": [
    "stdev1=np.std(Por1); stdev2=np.std(Por2)\n",
    "Por1r05=GSLIB.affine(Por1,tmean = ci_95_Por1[0],tstdev = stdev1 )\n",
    "Por1r95=GSLIB.affine(Por1,tmean = ci_95_Por1[1],tstdev = stdev1 )\n",
    "Por2r05=GSLIB.affine(Por2,tmean = ci_95_Por2[0],tstdev = stdev2 )\n",
    "Por2r95=GSLIB.affine(Por2,tmean = ci_95_Por2[1],tstdev = stdev2 )\n",
    "\n",
    "plt.subplot(121)\n",
    "plt.hist(Por1r05,facecolor='yellow',bins=np.linspace(0,0.4,50),alpha=1.0,histtype='stepfilled',density=True,\n",
    "cumulative=True, edgecolor='black', label = 'P5');\n",
    "plt.hist(Por1,facecolor='orange',bins=np.linspace(0,0.4,50),alpha=1.0,histtype='stepfilled',density=True,\n",
    "cumulative=True, edgecolor='black', label = 'Expected');\n",
    "plt.hist(Por1r95,facecolor='red',bins=np.linspace(0,0.4,50),alpha=1.0,histtype='stepfilled',density=True,\n",
    "cumulative=True, edgecolor='black', label = 'P95');\n",
    "plt.xlim(0,0.4);plt.ylim(0,1.0);\n",
    "plt.xlabel('Porosity (fraction)');plt.ylabel('Cumulative Frequency');plt.title('Porosity Uncertainty Distribution Well 1');\n",
    "plt.grid(True);\n",
    "plt.legend(loc='upper left');\n",
    "\n",
    "plt.subplot(122)\n",
    "plt.hist(Por2r05,facecolor='yellow',bins=np.linspace(0,0.4,50),alpha=1.0,histtype='stepfilled',density=True,\n",
    "cumulative=True, edgecolor='black', label = 'P5');\n",
    "plt.hist(Por2,facecolor='orange',bins=np.linspace(0,0.4,50),alpha=1.0,histtype='stepfilled',density=True,\n",
    "cumulative=True, edgecolor='black', label = 'Expected');\n",
    "plt.hist(Por2r95,facecolor='red',bins=np.linspace(0,0.4,50),alpha=1.0,histtype='stepfilled',density=True,\n",
    "cumulative=True, edgecolor='black', label = 'P95');\n",
    "plt.xlim(0,0.4);plt.ylim(0,1.0);\n",
    "plt.xlabel('Porosity (fraction)');plt.ylabel('Cumulative Frequency');plt.title('Porosity Uncertainty Distribution Well 2');\n",
    "plt.grid(True);\n",
    "plt.legend(loc='upper left');\n",
    "\n",
    "\n",
    "plt.subplots_adjust(left=0.0,bottom=0.0,right=2.0,top=1.0,wspace=.2,hspace=0.3)"
   ]
  },
  {
   "cell_type": "code",
   "execution_count": 13,
   "metadata": {},
   "outputs": [
    {
     "data": {
      "text/plain": [
       "<function matplotlib.pyplot.hist(x, bins=None, range=None, density=None, weights=None, cumulative=False, bottom=None, histtype='bar', align='mid', orientation='vertical', rwidth=None, log=False, color=None, label=None, stacked=False, normed=None, *, data=None, **kwargs)>"
      ]
     },
     "execution_count": 13,
     "metadata": {},
     "output_type": "execute_result"
    }
   ],
   "source": [
    "plt.hist"
   ]
  },
  {
   "cell_type": "markdown",
   "metadata": {},
   "source": [
    "The assumptions using this uncertainty model are that the distribution is Gaussian and the two samples are independent. Next is to set up our hypothesis test:"
   ]
  },
  {
   "cell_type": "markdown",
   "metadata": {},
   "source": [
    "The hypothesis tets will help answer the question if well 1 and well 2 are drilled into the same rock, or if something changed between the two wells, or if there is an issue with stratal continuity. Using a t-statistc and p value:"
   ]
  },
  {
   "cell_type": "code",
   "execution_count": 14,
   "metadata": {},
   "outputs": [
    {
     "data": {
      "text/plain": [
       "<function scipy.stats.stats.ttest_ind(a, b, axis=0, equal_var=True, nan_policy='propagate')>"
      ]
     },
     "execution_count": 14,
     "metadata": {},
     "output_type": "execute_result"
    }
   ],
   "source": [
    "stats.ttest_ind"
   ]
  },
  {
   "cell_type": "code",
   "execution_count": 15,
   "metadata": {},
   "outputs": [
    {
     "name": "stdout",
     "output_type": "stream",
     "text": [
      "The t-statistic is -2.981 , and the p-value is 0.005\n"
     ]
    }
   ],
   "source": [
    "t_pooled,p_pooled = stats.ttest_ind(Por1,Por2)\n",
    "print('The t-statistic is ' + str(round(t_pooled,3))+ ' , and the p-value is ' + str(round(p_pooled,3)))"
   ]
  },
  {
   "cell_type": "markdown",
   "metadata": {},
   "source": [
    " The p-value,  𝑝 , is the symmetric interval probaiblity our outside. In other words the  𝑝  reported is 2 x cumulative probaiblity of the t statistic applied to the sampling t distribution. Another way to look at it, if one used the  ±𝑡𝑡𝑠𝑡𝑎𝑡𝑖𝑠𝑡𝑖𝑐,.𝑑.𝑓  statistic as thresholds,  𝑝  is the probability being outside this symmetric interval. So we will reject the null hypothesis if  𝑝<𝛼 . From the p-value alone it is clear that we would reject the null hypothesis and accept the alternative hypothesis that the means are not equal.\n",
    "\n",
    "In case you want to compare the t-statistic to t-critical, we can apply the inverse of the student's t distribution at  𝛼2  and  1−𝛼2  to get the upper and lower critcal values. (Pryzc)"
   ]
  },
  {
   "cell_type": "code",
   "execution_count": 16,
   "metadata": {},
   "outputs": [
    {
     "data": {
      "text/plain": [
       "<bound method rv_continuous.ppf of <scipy.stats._continuous_distns.t_gen object at 0x1a1ce152d0>>"
      ]
     },
     "execution_count": 16,
     "metadata": {},
     "output_type": "execute_result"
    }
   ],
   "source": [
    "stats.t.ppf"
   ]
  },
  {
   "cell_type": "code",
   "execution_count": 17,
   "metadata": {},
   "outputs": [
    {
     "name": "stdout",
     "output_type": "stream",
     "text": [
      "The t critical lower and upper values are[-2.02  2.02]\n"
     ]
    }
   ],
   "source": [
    "t_critical = stats.t.ppf([.025,0.975],df=len(Por1)+len(Por2)-2)\n",
    "print('The t critical lower and upper values are' + str(np.round(t_critical,2)))"
   ]
  },
  {
   "cell_type": "markdown",
   "metadata": {},
   "source": [
    "The t statistic is outside the critical value, so now we will do Welch's T test (unequal variance). "
   ]
  },
  {
   "cell_type": "code",
   "execution_count": 18,
   "metadata": {},
   "outputs": [
    {
     "data": {
      "text/plain": [
       "<function scipy.stats.stats.ttest_ind(a, b, axis=0, equal_var=True, nan_policy='propagate')>"
      ]
     },
     "execution_count": 18,
     "metadata": {},
     "output_type": "execute_result"
    }
   ],
   "source": [
    "stats.ttest_ind"
   ]
  },
  {
   "cell_type": "code",
   "execution_count": 19,
   "metadata": {},
   "outputs": [
    {
     "data": {
      "text/plain": [
       "Ttest_indResult(statistic=-2.9808897468855644, pvalue=0.005502572350112333)"
      ]
     },
     "execution_count": 19,
     "metadata": {},
     "output_type": "execute_result"
    }
   ],
   "source": [
    "stats.ttest_ind(Por1,Por2,equal_var=False)"
   ]
  },
  {
   "cell_type": "markdown",
   "metadata": {},
   "source": [
    "P value is less than alpha (0.05 our confidence interval) so we reject the null hypothesis (the wells are statistically different)"
   ]
  },
  {
   "cell_type": "markdown",
   "metadata": {},
   "source": [
    "Using the F test to confirm this"
   ]
  },
  {
   "cell_type": "code",
   "execution_count": 20,
   "metadata": {},
   "outputs": [
    {
     "name": "stdout",
     "output_type": "stream",
     "text": [
      "The p-value for the F-test for difference is variances is 0.019\n"
     ]
    }
   ],
   "source": [
    "p_value = 1 - stats.f.cdf(np.var(Por2)/np.var(Por1), dfn=len(Por2)-1, dfd=len(Por1)-1)\n",
    "print('The p-value for the F-test for difference is variances is ' + str(round(p_value,3)))"
   ]
  },
  {
   "cell_type": "markdown",
   "metadata": {},
   "source": [
    "Again the p value is less than the alpha (.05) so the wells are statistically different possibly different rock."
   ]
  },
  {
   "cell_type": "code",
   "execution_count": null,
   "metadata": {},
   "outputs": [],
   "source": []
  }
 ],
 "metadata": {
  "kernelspec": {
   "display_name": "Python 3",
   "language": "python",
   "name": "python3"
  },
  "language_info": {
   "codemirror_mode": {
    "name": "ipython",
    "version": 3
   },
   "file_extension": ".py",
   "mimetype": "text/x-python",
   "name": "python",
   "nbconvert_exporter": "python",
   "pygments_lexer": "ipython3",
   "version": "3.7.4"
  }
 },
 "nbformat": 4,
 "nbformat_minor": 2
}
