{
 "cells": [
  {
   "cell_type": "markdown",
   "metadata": {},
   "source": [
    "This is my attempt to recreate the Bootstrap Demo from Dr. Pyrcz"
   ]
  },
  {
   "cell_type": "code",
   "execution_count": 2,
   "metadata": {},
   "outputs": [],
   "source": [
    "import geostatspy.GSLIB as GSLIB          # GSLIB utilies, visualization and wrapper\n",
    "import geostatspy.geostats as geostats    # GSLIB methods convert to Python        "
   ]
  },
  {
   "cell_type": "code",
   "execution_count": 3,
   "metadata": {},
   "outputs": [],
   "source": [
    "import numpy as np                        # ndarrys for gridded data\n",
    "import pandas as pd                       # DataFrames for tabular data\n",
    "import os                                 # set working directory, run executables\n",
    "import matplotlib.pyplot as plt           # for plotting\n",
    "from scipy import stats                   # summary statistics\n",
    "import math as m                          # trig etc.\n",
    "import scipy.signal as signal             # kernel for moving window calculation\n",
    "import random"
   ]
  },
  {
   "cell_type": "markdown",
   "metadata": {},
   "source": [
    "First step is to set the working directory using os "
   ]
  },
  {
   "cell_type": "code",
   "execution_count": 4,
   "metadata": {},
   "outputs": [],
   "source": [
    "os.chdir(\"/Users/AlexDodd/Desktop/Python Practice/Bootstrap\")   #sets working path to my file "
   ]
  },
  {
   "cell_type": "markdown",
   "metadata": {},
   "source": [
    "Next is to load our data, using a random porosity grid of data"
   ]
  },
  {
   "cell_type": "code",
   "execution_count": 5,
   "metadata": {},
   "outputs": [],
   "source": [
    "df = pd.read_excel('Random_Porosity.xlsx')"
   ]
  },
  {
   "cell_type": "markdown",
   "metadata": {},
   "source": [
    "Next we will take out samples for Bootstrap to increase variation"
   ]
  },
  {
   "cell_type": "code",
   "execution_count": 6,
   "metadata": {},
   "outputs": [
    {
     "name": "stdout",
     "output_type": "stream",
     "text": [
      "Using 260 number of samples\n"
     ]
    }
   ],
   "source": [
    "df = df.sample(frac = 0.9)                  # extract 50 random samples to reduce the size of the dataset   \n",
    "print('Using ' + str(len(df)) + ' number of samples')"
   ]
  },
  {
   "cell_type": "markdown",
   "metadata": {},
   "source": [
    "Next to quickly look at our loaded data"
   ]
  },
  {
   "cell_type": "code",
   "execution_count": 7,
   "metadata": {},
   "outputs": [
    {
     "data": {
      "text/html": [
       "<div>\n",
       "<style scoped>\n",
       "    .dataframe tbody tr th:only-of-type {\n",
       "        vertical-align: middle;\n",
       "    }\n",
       "\n",
       "    .dataframe tbody tr th {\n",
       "        vertical-align: top;\n",
       "    }\n",
       "\n",
       "    .dataframe thead th {\n",
       "        text-align: right;\n",
       "    }\n",
       "</style>\n",
       "<table border=\"1\" class=\"dataframe\">\n",
       "  <thead>\n",
       "    <tr style=\"text-align: right;\">\n",
       "      <th></th>\n",
       "      <th>X</th>\n",
       "      <th>Y</th>\n",
       "      <th>Porosity</th>\n",
       "    </tr>\n",
       "  </thead>\n",
       "  <tbody>\n",
       "    <tr>\n",
       "      <td>2</td>\n",
       "      <td>100</td>\n",
       "      <td>600</td>\n",
       "      <td>0.08</td>\n",
       "    </tr>\n",
       "    <tr>\n",
       "      <td>220</td>\n",
       "      <td>290</td>\n",
       "      <td>239</td>\n",
       "      <td>0.22</td>\n",
       "    </tr>\n",
       "    <tr>\n",
       "      <td>84</td>\n",
       "      <td>900</td>\n",
       "      <td>679</td>\n",
       "      <td>0.24</td>\n",
       "    </tr>\n",
       "    <tr>\n",
       "      <td>278</td>\n",
       "      <td>140</td>\n",
       "      <td>279</td>\n",
       "      <td>0.12</td>\n",
       "    </tr>\n",
       "    <tr>\n",
       "      <td>16</td>\n",
       "      <td>400</td>\n",
       "      <td>700</td>\n",
       "      <td>0.20</td>\n",
       "    </tr>\n",
       "    <tr>\n",
       "      <td>222</td>\n",
       "      <td>20</td>\n",
       "      <td>499</td>\n",
       "      <td>0.10</td>\n",
       "    </tr>\n",
       "    <tr>\n",
       "      <td>206</td>\n",
       "      <td>400</td>\n",
       "      <td>99</td>\n",
       "      <td>0.07</td>\n",
       "    </tr>\n",
       "    <tr>\n",
       "      <td>34</td>\n",
       "      <td>900</td>\n",
       "      <td>900</td>\n",
       "      <td>0.22</td>\n",
       "    </tr>\n",
       "    <tr>\n",
       "      <td>268</td>\n",
       "      <td>830</td>\n",
       "      <td>49</td>\n",
       "      <td>0.21</td>\n",
       "    </tr>\n",
       "    <tr>\n",
       "      <td>165</td>\n",
       "      <td>180</td>\n",
       "      <td>209</td>\n",
       "      <td>0.19</td>\n",
       "    </tr>\n",
       "    <tr>\n",
       "      <td>255</td>\n",
       "      <td>450</td>\n",
       "      <td>849</td>\n",
       "      <td>0.07</td>\n",
       "    </tr>\n",
       "    <tr>\n",
       "      <td>123</td>\n",
       "      <td>50</td>\n",
       "      <td>39</td>\n",
       "      <td>0.08</td>\n",
       "    </tr>\n",
       "    <tr>\n",
       "      <td>196</td>\n",
       "      <td>500</td>\n",
       "      <td>699</td>\n",
       "      <td>0.08</td>\n",
       "    </tr>\n",
       "  </tbody>\n",
       "</table>\n",
       "</div>"
      ],
      "text/plain": [
       "       X    Y  Porosity\n",
       "2    100  600      0.08\n",
       "220  290  239      0.22\n",
       "84   900  679      0.24\n",
       "278  140  279      0.12\n",
       "16   400  700      0.20\n",
       "222   20  499      0.10\n",
       "206  400   99      0.07\n",
       "34   900  900      0.22\n",
       "268  830   49      0.21\n",
       "165  180  209      0.19\n",
       "255  450  849      0.07\n",
       "123   50   39      0.08\n",
       "196  500  699      0.08"
      ]
     },
     "execution_count": 7,
     "metadata": {},
     "output_type": "execute_result"
    }
   ],
   "source": [
    "df.head(n = 13) #shows first 13 rows"
   ]
  },
  {
   "cell_type": "markdown",
   "metadata": {},
   "source": [
    "Quickly looking at the summary statistics for our data"
   ]
  },
  {
   "cell_type": "code",
   "execution_count": 8,
   "metadata": {},
   "outputs": [
    {
     "data": {
      "text/html": [
       "<div>\n",
       "<style scoped>\n",
       "    .dataframe tbody tr th:only-of-type {\n",
       "        vertical-align: middle;\n",
       "    }\n",
       "\n",
       "    .dataframe tbody tr th {\n",
       "        vertical-align: top;\n",
       "    }\n",
       "\n",
       "    .dataframe thead th {\n",
       "        text-align: right;\n",
       "    }\n",
       "</style>\n",
       "<table border=\"1\" class=\"dataframe\">\n",
       "  <thead>\n",
       "    <tr style=\"text-align: right;\">\n",
       "      <th></th>\n",
       "      <th>count</th>\n",
       "      <th>mean</th>\n",
       "      <th>std</th>\n",
       "      <th>min</th>\n",
       "      <th>25%</th>\n",
       "      <th>50%</th>\n",
       "      <th>75%</th>\n",
       "      <th>max</th>\n",
       "    </tr>\n",
       "  </thead>\n",
       "  <tbody>\n",
       "    <tr>\n",
       "      <td>X</td>\n",
       "      <td>260.0</td>\n",
       "      <td>471.846154</td>\n",
       "      <td>254.492559</td>\n",
       "      <td>0.00</td>\n",
       "      <td>300.0</td>\n",
       "      <td>425.00</td>\n",
       "      <td>670.0</td>\n",
       "      <td>990.00</td>\n",
       "    </tr>\n",
       "    <tr>\n",
       "      <td>Y</td>\n",
       "      <td>260.0</td>\n",
       "      <td>533.484615</td>\n",
       "      <td>299.074808</td>\n",
       "      <td>9.00</td>\n",
       "      <td>279.0</td>\n",
       "      <td>549.00</td>\n",
       "      <td>831.5</td>\n",
       "      <td>999.00</td>\n",
       "    </tr>\n",
       "    <tr>\n",
       "      <td>Porosity</td>\n",
       "      <td>260.0</td>\n",
       "      <td>0.148346</td>\n",
       "      <td>0.058804</td>\n",
       "      <td>0.05</td>\n",
       "      <td>0.1</td>\n",
       "      <td>0.15</td>\n",
       "      <td>0.2</td>\n",
       "      <td>0.25</td>\n",
       "    </tr>\n",
       "  </tbody>\n",
       "</table>\n",
       "</div>"
      ],
      "text/plain": [
       "          count        mean         std   min    25%     50%    75%     max\n",
       "X         260.0  471.846154  254.492559  0.00  300.0  425.00  670.0  990.00\n",
       "Y         260.0  533.484615  299.074808  9.00  279.0  549.00  831.5  999.00\n",
       "Porosity  260.0    0.148346    0.058804  0.05    0.1    0.15    0.2    0.25"
      ]
     },
     "execution_count": 8,
     "metadata": {},
     "output_type": "execute_result"
    }
   ],
   "source": [
    "df.describe().transpose() #easier to view in my opinion transposed"
   ]
  },
  {
   "cell_type": "markdown",
   "metadata": {},
   "source": [
    "Next we will set the map grid to visualize the different porosity values for already changed data"
   ]
  },
  {
   "cell_type": "code",
   "execution_count": 9,
   "metadata": {},
   "outputs": [],
   "source": [
    "xmin = 0.0\n",
    "xmax = 1000.0\n",
    "ymin = 0.0\n",
    "ymax = 1000.0\n",
    "porosity_min = 0.04\n",
    "porosity_max = 0.26\n",
    "color_map = plt.cm.plasma # plasma color map"
   ]
  },
  {
   "cell_type": "markdown",
   "metadata": {},
   "source": [
    "Next showing what goes into the GSLIB plot parameters, uses locmap from matplotlib"
   ]
  },
  {
   "cell_type": "code",
   "execution_count": 10,
   "metadata": {},
   "outputs": [
    {
     "data": {
      "text/plain": [
       "<function geostatspy.GSLIB.locmap_st(df, xcol, ycol, vcol, xmin, xmax, ymin, ymax, vmin, vmax, title, xlabel, ylabel, vlabel, cmap)>"
      ]
     },
     "execution_count": 10,
     "metadata": {},
     "output_type": "execute_result"
    }
   ],
   "source": [
    "GSLIB.locmap_st"
   ]
  },
  {
   "cell_type": "code",
   "execution_count": 11,
   "metadata": {},
   "outputs": [
    {
     "data": {
      "image/png": "[encoded data removed]",
      "text/plain": [
       "<Figure size 432x288 with 2 Axes>"
      ]
     },
     "metadata": {
      "needs_background": "light"
     },
     "output_type": "display_data"
    }
   ],
   "source": [
    "GSLIB.locmap_st(df,'X','Y','Porosity', xmin, xmax,ymin, ymax, porosity_min,porosity_max, 'Porosity Color Map', 'X(m)','Y(m)', 'Porosity', color_map)\n",
    "plt.show()"
   ]
  },
  {
   "cell_type": "markdown",
   "metadata": {},
   "source": [
    "Next step is to decluster our values, calculating declustering weights to apply to our data. Below shows the inputs for our declustering function:"
   ]
  },
  {
   "cell_type": "code",
   "execution_count": 12,
   "metadata": {},
   "outputs": [
    {
     "data": {
      "text/plain": [
       "<function geostatspy.geostats.declus(df, xcol, ycol, vcol, iminmax, noff, ncell, cmin, cmax)>"
      ]
     },
     "execution_count": 12,
     "metadata": {},
     "output_type": "execute_result"
    }
   ],
   "source": [
    "geostats.declus"
   ]
  },
  {
   "cell_type": "code",
   "execution_count": 13,
   "metadata": {},
   "outputs": [
    {
     "name": "stdout",
     "output_type": "stream",
     "text": [
      "There are 260 data with:\n",
      "   mean of      0.14834615384615388 \n",
      "   min and max  0.05 and 0.25\n",
      "   standard dev 0.058690480362722376 \n",
      "Declustered mean = 0.148 and declustered standard deviation = 0.059\n"
     ]
    }
   ],
   "source": [
    "weights, cell_sizes, means = geostats.declus(df,'X','Y','Porosity', iminmax = 1 , noff= 10, ncell = 100, cmin = 10, cmax = 2000 )\n",
    "df['Weights'] = weights                    # add weights to the sample data DataFrame\n",
    "df.head()                                  # preview to check the sample data DataFrame\n",
    "\n",
    "def weighted_avg_std(values,weights):      #calculates mean and std\n",
    "    average = np.average(values,weights=weights)  #average of an array of data then weights\n",
    "    variance = np.average((values-average)**2,weights=weights)  #calculates variance from difference squared from the data and average\n",
    "    return (average, m.sqrt(variance))\n",
    "sample_avg,sample_stddev = weighted_avg_std(df['Porosity'],df['Weights'])\n",
    "print('Declustered mean = ' + str(round(sample_avg,3)) + ' and declustered standard deviation = ' + str(round(sample_stddev,3)))"
   ]
  },
  {
   "cell_type": "markdown",
   "metadata": {},
   "source": [
    "Bootstrap Realizations: Next we will make a few loops through our porosity data set to randomly select data, replace it and calculate the summary statistics to find the uncertainty in the summary statistics (mean,stddev etc). The random choices inputs are shown:"
   ]
  },
  {
   "cell_type": "markdown",
   "metadata": {},
   "source": [
    "Signature: random.choices(population, weights=None, *, cum_weights=None, k=1)\n",
    "Docstring:\n",
    "Return a k sized list of population elements chosen with replacement.\n",
    "\n",
    "If the relative weights or cumulative weights are not specified,\n",
    "the selections are made with equal probability.\n",
    "File:      ~/opt/anaconda3/lib/python3.7/random.py\n",
    "Type:      method"
   ]
  },
  {
   "cell_type": "code",
   "execution_count": 14,
   "metadata": {},
   "outputs": [
    {
     "data": {
      "text/html": [
       "<div>\n",
       "<style scoped>\n",
       "    .dataframe tbody tr th:only-of-type {\n",
       "        vertical-align: middle;\n",
       "    }\n",
       "\n",
       "    .dataframe tbody tr th {\n",
       "        vertical-align: top;\n",
       "    }\n",
       "\n",
       "    .dataframe thead th {\n",
       "        text-align: right;\n",
       "    }\n",
       "</style>\n",
       "<table border=\"1\" class=\"dataframe\">\n",
       "  <thead>\n",
       "    <tr style=\"text-align: right;\">\n",
       "      <th></th>\n",
       "      <th>X</th>\n",
       "      <th>Y</th>\n",
       "      <th>Porosity</th>\n",
       "      <th>Weights</th>\n",
       "    </tr>\n",
       "  </thead>\n",
       "  <tbody>\n",
       "    <tr>\n",
       "      <td>2</td>\n",
       "      <td>100</td>\n",
       "      <td>600</td>\n",
       "      <td>0.08</td>\n",
       "      <td>1.003059</td>\n",
       "    </tr>\n",
       "    <tr>\n",
       "      <td>220</td>\n",
       "      <td>290</td>\n",
       "      <td>239</td>\n",
       "      <td>0.22</td>\n",
       "      <td>0.910230</td>\n",
       "    </tr>\n",
       "    <tr>\n",
       "      <td>84</td>\n",
       "      <td>900</td>\n",
       "      <td>679</td>\n",
       "      <td>0.24</td>\n",
       "      <td>0.932987</td>\n",
       "    </tr>\n",
       "    <tr>\n",
       "      <td>278</td>\n",
       "      <td>140</td>\n",
       "      <td>279</td>\n",
       "      <td>0.12</td>\n",
       "      <td>1.107982</td>\n",
       "    </tr>\n",
       "    <tr>\n",
       "      <td>16</td>\n",
       "      <td>400</td>\n",
       "      <td>700</td>\n",
       "      <td>0.20</td>\n",
       "      <td>0.740493</td>\n",
       "    </tr>\n",
       "  </tbody>\n",
       "</table>\n",
       "</div>"
      ],
      "text/plain": [
       "       X    Y  Porosity   Weights\n",
       "2    100  600      0.08  1.003059\n",
       "220  290  239      0.22  0.910230\n",
       "84   900  679      0.24  0.932987\n",
       "278  140  279      0.12  1.107982\n",
       "16   400  700      0.20  0.740493"
      ]
     },
     "execution_count": 14,
     "metadata": {},
     "output_type": "execute_result"
    }
   ],
   "source": [
    "df.head()"
   ]
  },
  {
   "cell_type": "code",
   "execution_count": 96,
   "metadata": {},
   "outputs": [
    {
     "name": "stdout",
     "output_type": "stream",
     "text": [
      "Bootstrap Means: for realization 1 is  0.14392307692307693  and realization 2 is  0.14984615384615385\n"
     ]
    }
   ],
   "source": [
    "sample1= random.choices(df['Porosity'].values,df['Weights'].values,cum_weights=None, k = len(df))\n",
    "sample2= random.choices(df['Porosity'].values,df['Weights'].values,cum_weights=None, k = len(df))\n",
    "print ('Bootstrap Means: for realization 1 is ', str(np.average(sample1)), ' and realization 2 is ' , str(np.average(sample2)))\n"
   ]
  },
  {
   "cell_type": "code",
   "execution_count": 97,
   "metadata": {},
   "outputs": [
    {
     "name": "stdout",
     "output_type": "stream",
     "text": [
      "Bootstrap means, realization 1 = 0.14611538461538462 and realization 2 = 0.14723076923076925\n"
     ]
    },
    {
     "data": {
      "image/png": "[encoded data removed]",
      "text/plain": [
       "<Figure size 432x288 with 3 Axes>"
      ]
     },
     "metadata": {
      "needs_background": "light"
     },
     "output_type": "display_data"
    }
   ],
   "source": [
    "samples1 = random.choices(df['Porosity'].values, weights=df['Weights'].values, cum_weights=None, k=len(df))\n",
    "samples2 = random.choices(df['Porosity'].values, weights=df['Weights'].values, cum_weights=None, k=len(df))\n",
    "\n",
    "print('Bootstrap means, realization 1 = ' + str(np.average(samples1)) + ' and realization 2 = ' + str(np.average(samples2)))\n",
    "\n",
    "plt.subplot(131)\n",
    "GSLIB.hist_st(df['Porosity'],porosity_min,porosity_max,False,False,20,df['Weights'],'Porosity (fraction)','Declustered Porosity')\n",
    "\n",
    "plt.subplot(132)\n",
    "GSLIB.hist_st(samples1,porosity_min,porosity_max,False,False,20,None,'Bootstrap Sample - Realizaton 1','Bootstrap Porosity 1')\n",
    "\n",
    "plt.subplot(133)\n",
    "GSLIB.hist_st(samples2,porosity_min,porosity_max,False,False,20,None,'Bootstrap Sample - Realizaton 2','Bootstrap Porosity 2')\n",
    "\n",
    "plt.subplots_adjust(left=0.0, bottom=0.0, right=3.0, top=1.2, wspace=0.2, hspace=0.2)\n",
    "plt.show()"
   ]
  },
  {
   "cell_type": "markdown",
   "metadata": {},
   "source": [
    "Next we will loop over to randomly sample and replace the data to caluclate the average and standard deviation in the data. The np.zeros function will create an array of zeros the length of realizations (samples with replacements) then we will randomly choose a data point, calculate the average and standard deviation, then replace the data over the lenght of the realizations"
   ]
  },
  {
   "cell_type": "code",
   "execution_count": 98,
   "metadata": {},
   "outputs": [
    {
     "data": {
      "text/plain": [
       "<bound method Random.choices of <random.Random object at 0x7fd89903b220>>"
      ]
     },
     "execution_count": 98,
     "metadata": {},
     "output_type": "execute_result"
    }
   ],
   "source": [
    "random.choices"
   ]
  },
  {
   "cell_type": "code",
   "execution_count": 99,
   "metadata": {},
   "outputs": [],
   "source": [
    "L = 1000              #number of realizations that we will be using\n",
    "average = np.zeros(L) #populate the average that with an array of zeros to be populated\n",
    "stddev = np.zeros(L)  #populate the standard deviation with an array of zeros to be populated\n",
    "for i in range (0,L):\n",
    "    samples = random.choices(df['Porosity'].values,weights=df['Weights'].values,cum_weights=None,k=len(df))\n",
    "    average[i]= np.average(samples)\n",
    "    stddev[i]=np.std(samples)\n"
   ]
  },
  {
   "cell_type": "markdown",
   "metadata": {},
   "source": [
    "Now plotting the uncertainty in the porosity average and uncertainty "
   ]
  },
  {
   "cell_type": "code",
   "execution_count": 100,
   "metadata": {},
   "outputs": [
    {
     "data": {
      "text/plain": [
       "<function geostatspy.GSLIB.hist_st(array, xmin, xmax, log, cumul, bins, weights, xlabel, title)>"
      ]
     },
     "execution_count": 100,
     "metadata": {},
     "output_type": "execute_result"
    }
   ],
   "source": [
    "GSLIB.hist_st"
   ]
  },
  {
   "cell_type": "code",
   "execution_count": 101,
   "metadata": {},
   "outputs": [
    {
     "name": "stdout",
     "output_type": "stream",
     "text": [
      "Summary Statistics for the Bootstrap Average Porosity\n",
      "DescribeResult(nobs=1000, minmax=(0.1338076923076923, 0.15711538461538463), mean=0.14653326923076923, variance=1.315013945158176e-05, skewness=-0.10125972864751333, kurtosis=-0.13472929930093036)\n",
      "P90 = 0.142, P50 = 0.147, P10 = 0.151\n"
     ]
    },
    {
     "data": {
      "image/png": "[encoded data removed]",
      "text/plain": [
       "<Figure size 432x288 with 2 Axes>"
      ]
     },
     "metadata": {
      "needs_background": "light"
     },
     "output_type": "display_data"
    }
   ],
   "source": [
    "plt.subplot(121)\n",
    "GSLIB.hist_st(average,.13,.18,False,False,50,None,'Average Porosity (fraction)','Bootstrap Uncertainty in Porosity Average')\n",
    "\n",
    "plt.subplot(122)\n",
    "GSLIB.hist_st(stddev,.05,.07,False,False,50,None,'Standard Deviation Porosity (fraction)','Bootstrap Uncertainty in Porosity Standard Deviation')\n",
    "\n",
    "plt.subplots_adjust(left=0.0, bottom=0.0, right=3.0, top=1.2, wspace=0.2, hspace=0.2)\n",
    "\n",
    "print('Summary Statistics for the Bootstrap Average Porosity')\n",
    "print(stats.describe(average))\n",
    "print('P90 = ' + str(round(np.percentile(average,10),3))+ ','+' P50 = ' + str(round(np.percentile(average,50),3))+ ','+' P10 = ' + str(round(np.percentile(average,90),3)))"
   ]
  },
  {
   "cell_type": "code",
   "execution_count": null,
   "metadata": {},
   "outputs": [],
   "source": []
  }
 ],
 "metadata": {
  "kernelspec": {
   "display_name": "Python 3",
   "language": "python",
   "name": "python3"
  },
  "language_info": {
   "codemirror_mode": {
    "name": "ipython",
    "version": 3
   },
   "file_extension": ".py",
   "mimetype": "text/x-python",
   "name": "python",
   "nbconvert_exporter": "python",
   "pygments_lexer": "ipython3",
   "version": "3.7.4"
  }
 },
 "nbformat": 4,
 "nbformat_minor": 2
}
